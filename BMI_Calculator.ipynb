{
 "cells": [
  {
   "cell_type": "code",
   "execution_count": 1,
   "id": "434a7ba7-5f74-49a8-a5aa-9114e8c63438",
   "metadata": {},
   "outputs": [
    {
     "name": "stdout",
     "output_type": "stream",
     "text": [
      "Note: you may need to restart the kernel to use updated packages.\n"
     ]
    },
    {
     "name": "stderr",
     "output_type": "stream",
     "text": [
      "ERROR: Could not find a version that satisfies the requirement tkinter (from versions: none)\n",
      "ERROR: No matching distribution found for tkinter\n"
     ]
    }
   ],
   "source": [
    "%pip install tkinter \n"
   ]
  },
  {
   "cell_type": "code",
   "execution_count": 3,
   "id": "afd8b6de-2934-41ce-8440-6549ddec69ac",
   "metadata": {},
   "outputs": [
    {
     "name": "stdout",
     "output_type": "stream",
     "text": [
      "Note: you may need to restart the kernel to use updated packages.\n"
     ]
    },
    {
     "name": "stderr",
     "output_type": "stream",
     "text": [
      "ERROR: Could not find a version that satisfies the requirement PIL (from versions: none)\n",
      "ERROR: No matching distribution found for PIL\n"
     ]
    }
   ],
   "source": [
    "%pip install PIL"
   ]
  },
  {
   "cell_type": "code",
   "execution_count": 1,
   "id": "3311f6a4-c801-46de-a116-a3c632e27440",
   "metadata": {},
   "outputs": [],
   "source": [
    "#This works\n",
    "from tkinter import *\n",
    "import tkinter as tk\n",
    "from tkinter import ttk\n",
    "from PIL import Image, ImageTk\n",
    "\n",
    "# Initialize the main window\n",
    "root = Tk()\n",
    "root.title(\"BMI CALCULATOR\")\n",
    "root.geometry(\"470x580+300+200\")\n",
    "root.resizable(False, False)\n",
    "root.configure(bg='#f0f1f5')\n",
    "def BMI():\n",
    "    h=float(Height.get())\n",
    "    w=float(Weight.get())\n",
    "\n",
    "    #Convert height into metre\n",
    "    m=h/100\n",
    "    bmi=round(float(w/m**2))\n",
    "    label1.config(text=bmi)\n",
    "    if bmi<=18.5:\n",
    "      label2.config(text=\"UNDERWEIGHT\")\n",
    "      label3.config(text=\"Your weight is less than normal !\")\n",
    "    elif bmi>18.5 and bmi<=25:\n",
    "      label2.config(text=\"NORMAL\")\n",
    "      label3.config(text=\"Your are healthy !\")\n",
    "    elif bmi>25 and bmi<=30:\n",
    "      label2.config(text=\"Overweight\")\n",
    "      label3.config(text=\"You are unhealthy !\")\n",
    "    else:\n",
    "      label2.config(text=\"Obese\")\n",
    "      label3.config(text=\"Need immediate help !\")\n",
    "    \n",
    "\n",
    "\n",
    "\n",
    "# Top image\n",
    "top = PhotoImage(file=\"C:\\\\Users\\\\Marc\\\\OneDrive\\\\Documents\\\\BMI_CALCULATOR\\\\top.png\")\n",
    "top_image = Label(root, image=top, background='#f0f1f5')\n",
    "top_image.place(x=-10, y=-10)\n",
    "\n",
    "# Bottom box\n",
    "Label(root, width=72, height=18, bg=\"lightblue\").pack(side=BOTTOM)\n",
    "\n",
    "# Two boxes\n",
    "box = PhotoImage(file=\"C:\\\\Users\\\\Marc\\\\OneDrive\\\\Documents\\\\BMI_CALCULATOR\\\\box.png\")\n",
    "Label(root, image=box).place(x=20, y=100)\n",
    "Label(root, image=box).place(x=240, y=100)\n",
    "\n",
    "# Scale\n",
    "scale = PhotoImage(file=\"C:\\\\Users\\\\Marc\\\\OneDrive\\\\Documents\\\\BMI_CALCULATOR\\\\scale.png\")\n",
    "Label(root, image=scale, bg='lightblue').place(x=20, y=310)\n",
    "\n",
    "########## Slider1 ##########\n",
    "current_value = tk.DoubleVar()\n",
    "\n",
    "def get_current_value():\n",
    "    return '{:.2f}'.format(current_value.get())\n",
    "\n",
    "def slider_changed(event):\n",
    "    Height.set(get_current_value())\n",
    "    size=int(float(get_current_value()))\n",
    "    img=(Image.open(\"C:\\\\Users\\\\Marc\\\\OneDrive\\\\Documents\\\\BMI_CALCULATOR\\\\man.png\"))\n",
    "    resized_image=img.resize((50,10+size))\n",
    "    photo2=ImageTk.PhotoImage(resized_image)\n",
    "    secondimage.config(image=photo2)\n",
    "    secondimage.place(x=70,y=550-size)\n",
    "    secondimage.image=photo2\n",
    "\n",
    "# Command to change background color of scale\n",
    "style = ttk.Style()\n",
    "style.configure(\"TScale\", background=\"white\")\n",
    "slider = ttk.Scale(root, from_=0, to=220, orient='horizontal', style='TScale', command=slider_changed, variable=current_value)\n",
    "slider.place(x=80, y=250)\n",
    "\n",
    "########## Slider2 ##########\n",
    "current_value2 = tk.DoubleVar()\n",
    "\n",
    "def get_current_value2():\n",
    "    return '{:.2f}'.format(current_value2.get())\n",
    "\n",
    "def slider_changed2(event):\n",
    "    Weight.set(get_current_value2())\n",
    "\n",
    "# Command to change background color of scale\n",
    "style2 = ttk.Style()\n",
    "style2.configure(\"TScale\", background=\"white\")\n",
    "slider2 = ttk.Scale(root, from_=0, to=200, orient='horizontal', style='TScale', command=slider_changed2, variable=current_value2)\n",
    "slider2.place(x=300, y=250)\n",
    "\n",
    "# Entry box\n",
    "Height = StringVar()\n",
    "Weight = StringVar()\n",
    "\n",
    "height = Entry(root, textvariable=Height, width=5, font='arial 50', bg='#fff', fg='#000', bd=0, justify=CENTER)  # to align to center \n",
    "height.place(x=35, y=160)\n",
    "Height.set(get_current_value())\n",
    "\n",
    "weight = Entry(root, textvariable=Weight, width=5, font='arial 50', bg='#fff', fg='#000', bd=0, justify=CENTER)  # to align to center \n",
    "weight.place(x=255, y=160)\n",
    "Weight.set(get_current_value2())\n",
    "\n",
    "# Man image\n",
    "secondimage = Label(root, bg='lightblue')\n",
    "secondimage.place(x=70, y=530)\n",
    "\n",
    "\n",
    "Button(root,text=\"View Report\",width=15,height=2,font=\"arial 10 bold\",bg='#1f6e68',fg='white',command=BMI).place(x=280,y=340)\n",
    "\n",
    "label1=Label(root,font=\"arial 60 bold\",bg=\"lightblue\",fg=\"#fff\")\n",
    "label1.place(x=125,y=305)\n",
    "\n",
    "label2=Label(root,font=\"arial 20 bold\",bg=\"lightblue\",fg=\"#3b3a3a\")\n",
    "label2.place(x=200,y=430)\n",
    "\n",
    "label3=Label(root,font=\"arial 10 bold\",bg=\"lightblue\",fg=\"#3b3a3a\")\n",
    "label3.place(x=200,y=500)\n",
    "\n",
    "\n",
    "# Start the main loop\n",
    "root.mainloop()\n"
   ]
  },
  {
   "cell_type": "code",
   "execution_count": 21,
   "id": "f02854db-589d-4713-a729-466fa67ea7c9",
   "metadata": {},
   "outputs": [
    {
     "name": "stdout",
     "output_type": "stream",
     "text": [
      "Note: you may need to restart the kernel to use updated packages.\n"
     ]
    },
    {
     "name": "stderr",
     "output_type": "stream",
     "text": [
      "WARNING: Skipping tkinter as it is not installed.\n"
     ]
    }
   ],
   "source": [
    "pip uninstall tkinter"
   ]
  },
  {
   "cell_type": "code",
   "execution_count": 22,
   "id": "67252ee5-3905-4266-bb63-3bf55b8fb986",
   "metadata": {},
   "outputs": [
    {
     "name": "stdout",
     "output_type": "stream",
     "text": [
      "Note: you may need to restart the kernel to use updated packages.\n"
     ]
    },
    {
     "name": "stderr",
     "output_type": "stream",
     "text": [
      "ERROR: Could not find a version that satisfies the requirement tkinter (from versions: none)\n",
      "ERROR: No matching distribution found for tkinter\n"
     ]
    }
   ],
   "source": [
    "%pip install tkinter"
   ]
  },
  {
   "cell_type": "code",
   "execution_count": null,
   "id": "a158c9b7-99a4-4d6c-878b-a67bea92fa21",
   "metadata": {},
   "outputs": [],
   "source": [
    "from tkinter import Tk, Label\n",
    "\n",
    "# Create a main window\n",
    "root = Tk()\n",
    "root.title(\"Jupyter Notebook GUI\")\n",
    "\n",
    "# Add a label\n",
    "label = Label(root, text=\"Hello from Jupyter Notebook!\")\n",
    "label.pack()\n",
    "\n",
    "# Start the event loop\n",
    "root.mainloop()"
   ]
  },
  {
   "cell_type": "code",
   "execution_count": null,
   "id": "124d8294-6578-4ae9-b222-571fbd221036",
   "metadata": {},
   "outputs": [],
   "source": []
  }
 ],
 "metadata": {
  "kernelspec": {
   "display_name": "Python 3 (ipykernel)",
   "language": "python",
   "name": "python3"
  },
  "language_info": {
   "codemirror_mode": {
    "name": "ipython",
    "version": 3
   },
   "file_extension": ".py",
   "mimetype": "text/x-python",
   "name": "python",
   "nbconvert_exporter": "python",
   "pygments_lexer": "ipython3",
   "version": "3.11.7"
  }
 },
 "nbformat": 4,
 "nbformat_minor": 5
}
